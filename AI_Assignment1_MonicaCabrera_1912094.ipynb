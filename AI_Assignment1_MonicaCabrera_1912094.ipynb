{
  "nbformat": 4,
  "nbformat_minor": 0,
  "metadata": {
    "colab": {
      "provenance": [],
      "authorship_tag": "ABX9TyMFigs27eW7EKBYljbRFtNE"
    },
    "kernelspec": {
      "name": "python3",
      "display_name": "Python 3"
    },
    "language_info": {
      "name": "python"
    }
  },
  "cells": [
    {
      "cell_type": "markdown",
      "source": [
        "# **Assignment 2: Python Exercises**\n",
        "**Name:** Mónica Sodelva Cabrera López\n",
        "\n",
        "**Student ID:** 1912094\n",
        "\n",
        "**Class:** N4-N6"
      ],
      "metadata": {
        "id": "tFtEqTwr1MFA"
      }
    },
    {
      "cell_type": "code",
      "execution_count": 12,
      "metadata": {
        "colab": {
          "base_uri": "https://localhost:8080/"
        },
        "id": "Ly-REjpc1AVv",
        "outputId": "266da22b-9574-4ec3-8e81-bc325cce3b6a"
      },
      "outputs": [
        {
          "output_type": "stream",
          "name": "stdout",
          "text": [
            "Can you tell me your name? Mónica\n",
            "Hi, Mónica!\n"
          ]
        }
      ],
      "source": [
        "# Exercise 1\n",
        "name = input(\"Can you tell me your name? \")\n",
        "if name == \"Ana\":\n",
        "  print(\"\")\n",
        "elif name == \"John\":\n",
        "  print(\"\")\n",
        "elif name == \"Peter\":\n",
        "  print(\"\")\n",
        "else:\n",
        "  print(\"Hi, \" + name + \"!\")"
      ]
    },
    {
      "cell_type": "code",
      "source": [
        "# Exercise 2\n",
        "# If you wanted to use the function with another list, it would only be necessary to replace 'citrics' in the function with the name of that list\n",
        "citrics = [\"lemon\", \"lime\", \"orange\", \"tangerine\", \"grapefruit\"] \n",
        "def function4citrics():\n",
        "  print(citrics[-1])\n",
        "  citrics.reverse()\n",
        "  print(citrics)\n",
        "function4citrics()"
      ],
      "metadata": {
        "id": "aggvepqu2-Mp",
        "colab": {
          "base_uri": "https://localhost:8080/"
        },
        "outputId": "dc655351-4ece-4638-d66d-381fc2fddd28"
      },
      "execution_count": 10,
      "outputs": [
        {
          "output_type": "stream",
          "name": "stdout",
          "text": [
            "grapefruit\n",
            "['grapefruit', 'tangerine', 'orange', 'lime', 'lemon']\n"
          ]
        }
      ]
    },
    {
      "cell_type": "code",
      "source": [
        "# Exercise 3\n",
        "def function_textbox():\n",
        "  list2 = []\n",
        "  n = int(input(\"Enter the number of elements: \"))\n",
        "  for i in range(0, n):\n",
        "    ele = str(input())\n",
        "    list2.append(ele)\n",
        "  print(13 * \"*\")\n",
        "  for item in list2:\n",
        "    print(\"*\", item.ljust(10, \" \"), end=\"*\\n\")\n",
        "  print(13 * \"*\")\n",
        "function_textbox()"
      ],
      "metadata": {
        "colab": {
          "base_uri": "https://localhost:8080/"
        },
        "id": "NbThEGQuhWBT",
        "outputId": "5a249add-6b54-4485-ad48-bd12b5264e7b"
      },
      "execution_count": 21,
      "outputs": [
        {
          "output_type": "stream",
          "name": "stdout",
          "text": [
            "Enter the number of elements: 5\n",
            "Hi\n",
            "my\n",
            "name\n",
            "is\n",
            "Monica\n",
            "*************\n",
            "* Hi        *\n",
            "* my        *\n",
            "* name      *\n",
            "* is        *\n",
            "* Monica    *\n",
            "*************\n"
          ]
        }
      ]
    }
  ]
}